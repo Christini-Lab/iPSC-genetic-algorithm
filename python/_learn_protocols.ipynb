{
 "cells": [
  {
   "cell_type": "markdown",
   "metadata": {},
   "source": [
    "## Using and Creating iPSC-CM Protocols\n",
    "\n",
    "The purpose of this file is to provide background the protocols that are present in this directory, how to use them, and how to add new ones.\n",
    "\n",
    "At the time of writing this (11/26/19), there are four protocols. Their behaviors are described in the following three classes:\n",
    "- `SingleActionPotentialProtocol()`\n",
    "- `IrregularPacingProtocol()`\n",
    "- `VoltageClampStep()`\n",
    "- `VoltageClampProtocol()`\n",
    "\n",
    "We created these protocols as their own class, because you may want multiple instances of these protocols in the same program (e.g. for voltage clamp optimizations)\n",
    "\n",
    "You can find these protocols in **./protocols.py**. Let's take a look at how to import and run each w/ the Kernik Model.\n"
   ]
  },
  {
   "cell_type": "markdown",
   "metadata": {},
   "source": [
    "#### Single Action Potential"
   ]
  },
  {
   "cell_type": "code",
   "execution_count": 14,
   "metadata": {},
   "outputs": [],
   "source": [
    "%matplotlib inline\n",
    "\n",
    "from kernik import KernikModel\n",
    "import protocols\n",
    "import matplotlib.pyplot as plt"
   ]
  },
  {
   "cell_type": "markdown",
   "metadata": {},
   "source": [
    "The SingleActionPotentialProtocol() class name is a misnomer. It should be called SpontaneousProtocol(). You initialize the protocol with an value for the following parameter:\n",
    "- `duration`: float – the amount of time you want the model to run spontaneously."
   ]
  },
  {
   "cell_type": "code",
   "execution_count": 15,
   "metadata": {},
   "outputs": [],
   "source": [
    "DURATION = 983  # Length of Kernik AP, in milliseconds\n",
    "SAP_PROTOCOL_KERNIK = protocols.SingleActionPotentialProtocol(DURATION)"
   ]
  },
  {
   "cell_type": "markdown",
   "metadata": {},
   "source": [
    "At this point, you should take a moment to look in **./protocols.py**. Find the `SingleActionPotentialProtocol()` class, and try to understand the **behavior** and **state** of the value saved to `kernik_protocol`. The only information saved to this instance is a time duration.\n",
    "\n",
    "Next, we can run a single AP with the following:"
   ]
  },
  {
   "cell_type": "code",
   "execution_count": 16,
   "metadata": {},
   "outputs": [
    {
     "data": {
      "image/png": "[encoded data removed]",
      "text/plain": [
       "<Figure size 432x288 with 1 Axes>"
      ]
     },
     "metadata": {
      "needs_background": "light"
     },
     "output_type": "display_data"
    }
   ],
   "source": [
    "baseline_kernik = KernikModel() # Initialize the baseline kernik individual\n",
    "baseline_kernik.generate_response(SAP_PROTOCOL_KERNIK) # Run model\n",
    "baseline_kernik.generate_response(SAP_PROTOCOL_KERNIK)\n",
    "\n",
    "plt.plot(baseline_kernik.t, baseline_kernik.y_voltage)\n",
    "plt.xlabel(\"Time, (ms)\")\n",
    "plt.ylabel(\"Millivolts\")\n",
    "plt.show()"
   ]
  },
  {
   "cell_type": "markdown",
   "metadata": {},
   "source": [
    "Before you move onto another protocol, let's consider what happens when we call: \n",
    "```py\n",
    "baseline_kernik.generate_response(SAP_PROTOCOL_KERNIK)\n",
    "```\n",
    "\n",
    "Let's follow the bread crumbs, so to speak:\n",
    "1. If you open `kernik.py`, you may notice that there is no `.generate_response()` method defined. In fact, the class only contains two methods: `.__init__()` and `action_potential_diff_eq()`. These methods describe model-specific formulations and state values. This is because, _all cardiac model behavior is inherited from the `CellModel()` class in **cell\\_model.py** file._\n",
    "2. Navigate to the `CellModel()` class in **cell_model.py**. \n"
   ]
  },
  {
   "cell_type": "code",
   "execution_count": null,
   "metadata": {},
   "outputs": [],
   "source": []
  }
 ],
 "metadata": {
  "kernelspec": {
   "display_name": "Python 3",
   "language": "python",
   "name": "python3"
  },
  "language_info": {
   "codemirror_mode": {
    "name": "ipython",
    "version": 3
   },
   "file_extension": ".py",
   "mimetype": "text/x-python",
   "name": "python",
   "nbconvert_exporter": "python",
   "pygments_lexer": "ipython3",
   "version": "3.7.4"
  }
 },
 "nbformat": 4,
 "nbformat_minor": 2
}
